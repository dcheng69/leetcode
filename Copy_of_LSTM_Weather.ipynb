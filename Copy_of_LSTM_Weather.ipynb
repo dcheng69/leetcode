{
  "nbformat": 4,
  "nbformat_minor": 0,
  "metadata": {
    "colab": {
      "provenance": [],
      "include_colab_link": true
    },
    "kernelspec": {
      "name": "python3",
      "display_name": "Python 3"
    },
    "language_info": {
      "name": "python"
    }
  },
  "cells": [
    {
      "cell_type": "markdown",
      "metadata": {
        "id": "view-in-github",
        "colab_type": "text"
      },
      "source": [
        "<a href=\"https://colab.research.google.com/github/dcheng69/leetcode/blob/master/Copy_of_LSTM_Weather.ipynb\" target=\"_parent\"><img src=\"https://colab.research.google.com/assets/colab-badge.svg\" alt=\"Open In Colab\"/></a>"
      ]
    },
    {
      "cell_type": "code",
      "execution_count": null,
      "metadata": {
        "id": "G6X7Valo3XEw",
        "colab": {
          "base_uri": "https://localhost:8080/",
          "height": 612
        },
        "outputId": "7f989b75-6097-4d26-9e75-b07a545e2d73"
      },
      "outputs": [
        {
          "output_type": "stream",
          "name": "stdout",
          "text": [
            "Mounted at /content/drive\n",
            "Please upload 'Weather.csv'\n"
          ]
        },
        {
          "output_type": "display_data",
          "data": {
            "text/plain": [
              "<IPython.core.display.HTML object>"
            ],
            "text/html": [
              "\n",
              "     <input type=\"file\" id=\"files-a8847b6d-952a-4eab-bbfc-f497e0e2b85f\" name=\"files[]\" multiple disabled\n",
              "        style=\"border:none\" />\n",
              "     <output id=\"result-a8847b6d-952a-4eab-bbfc-f497e0e2b85f\">\n",
              "      Upload widget is only available when the cell has been executed in the\n",
              "      current browser session. Please rerun this cell to enable.\n",
              "      </output>\n",
              "      <script>// Copyright 2017 Google LLC\n",
              "//\n",
              "// Licensed under the Apache License, Version 2.0 (the \"License\");\n",
              "// you may not use this file except in compliance with the License.\n",
              "// You may obtain a copy of the License at\n",
              "//\n",
              "//      http://www.apache.org/licenses/LICENSE-2.0\n",
              "//\n",
              "// Unless required by applicable law or agreed to in writing, software\n",
              "// distributed under the License is distributed on an \"AS IS\" BASIS,\n",
              "// WITHOUT WARRANTIES OR CONDITIONS OF ANY KIND, either express or implied.\n",
              "// See the License for the specific language governing permissions and\n",
              "// limitations under the License.\n",
              "\n",
              "/**\n",
              " * @fileoverview Helpers for google.colab Python module.\n",
              " */\n",
              "(function(scope) {\n",
              "function span(text, styleAttributes = {}) {\n",
              "  const element = document.createElement('span');\n",
              "  element.textContent = text;\n",
              "  for (const key of Object.keys(styleAttributes)) {\n",
              "    element.style[key] = styleAttributes[key];\n",
              "  }\n",
              "  return element;\n",
              "}\n",
              "\n",
              "// Max number of bytes which will be uploaded at a time.\n",
              "const MAX_PAYLOAD_SIZE = 100 * 1024;\n",
              "\n",
              "function _uploadFiles(inputId, outputId) {\n",
              "  const steps = uploadFilesStep(inputId, outputId);\n",
              "  const outputElement = document.getElementById(outputId);\n",
              "  // Cache steps on the outputElement to make it available for the next call\n",
              "  // to uploadFilesContinue from Python.\n",
              "  outputElement.steps = steps;\n",
              "\n",
              "  return _uploadFilesContinue(outputId);\n",
              "}\n",
              "\n",
              "// This is roughly an async generator (not supported in the browser yet),\n",
              "// where there are multiple asynchronous steps and the Python side is going\n",
              "// to poll for completion of each step.\n",
              "// This uses a Promise to block the python side on completion of each step,\n",
              "// then passes the result of the previous step as the input to the next step.\n",
              "function _uploadFilesContinue(outputId) {\n",
              "  const outputElement = document.getElementById(outputId);\n",
              "  const steps = outputElement.steps;\n",
              "\n",
              "  const next = steps.next(outputElement.lastPromiseValue);\n",
              "  return Promise.resolve(next.value.promise).then((value) => {\n",
              "    // Cache the last promise value to make it available to the next\n",
              "    // step of the generator.\n",
              "    outputElement.lastPromiseValue = value;\n",
              "    return next.value.response;\n",
              "  });\n",
              "}\n",
              "\n",
              "/**\n",
              " * Generator function which is called between each async step of the upload\n",
              " * process.\n",
              " * @param {string} inputId Element ID of the input file picker element.\n",
              " * @param {string} outputId Element ID of the output display.\n",
              " * @return {!Iterable<!Object>} Iterable of next steps.\n",
              " */\n",
              "function* uploadFilesStep(inputId, outputId) {\n",
              "  const inputElement = document.getElementById(inputId);\n",
              "  inputElement.disabled = false;\n",
              "\n",
              "  const outputElement = document.getElementById(outputId);\n",
              "  outputElement.innerHTML = '';\n",
              "\n",
              "  const pickedPromise = new Promise((resolve) => {\n",
              "    inputElement.addEventListener('change', (e) => {\n",
              "      resolve(e.target.files);\n",
              "    });\n",
              "  });\n",
              "\n",
              "  const cancel = document.createElement('button');\n",
              "  inputElement.parentElement.appendChild(cancel);\n",
              "  cancel.textContent = 'Cancel upload';\n",
              "  const cancelPromise = new Promise((resolve) => {\n",
              "    cancel.onclick = () => {\n",
              "      resolve(null);\n",
              "    };\n",
              "  });\n",
              "\n",
              "  // Wait for the user to pick the files.\n",
              "  const files = yield {\n",
              "    promise: Promise.race([pickedPromise, cancelPromise]),\n",
              "    response: {\n",
              "      action: 'starting',\n",
              "    }\n",
              "  };\n",
              "\n",
              "  cancel.remove();\n",
              "\n",
              "  // Disable the input element since further picks are not allowed.\n",
              "  inputElement.disabled = true;\n",
              "\n",
              "  if (!files) {\n",
              "    return {\n",
              "      response: {\n",
              "        action: 'complete',\n",
              "      }\n",
              "    };\n",
              "  }\n",
              "\n",
              "  for (const file of files) {\n",
              "    const li = document.createElement('li');\n",
              "    li.append(span(file.name, {fontWeight: 'bold'}));\n",
              "    li.append(span(\n",
              "        `(${file.type || 'n/a'}) - ${file.size} bytes, ` +\n",
              "        `last modified: ${\n",
              "            file.lastModifiedDate ? file.lastModifiedDate.toLocaleDateString() :\n",
              "                                    'n/a'} - `));\n",
              "    const percent = span('0% done');\n",
              "    li.appendChild(percent);\n",
              "\n",
              "    outputElement.appendChild(li);\n",
              "\n",
              "    const fileDataPromise = new Promise((resolve) => {\n",
              "      const reader = new FileReader();\n",
              "      reader.onload = (e) => {\n",
              "        resolve(e.target.result);\n",
              "      };\n",
              "      reader.readAsArrayBuffer(file);\n",
              "    });\n",
              "    // Wait for the data to be ready.\n",
              "    let fileData = yield {\n",
              "      promise: fileDataPromise,\n",
              "      response: {\n",
              "        action: 'continue',\n",
              "      }\n",
              "    };\n",
              "\n",
              "    // Use a chunked sending to avoid message size limits. See b/62115660.\n",
              "    let position = 0;\n",
              "    do {\n",
              "      const length = Math.min(fileData.byteLength - position, MAX_PAYLOAD_SIZE);\n",
              "      const chunk = new Uint8Array(fileData, position, length);\n",
              "      position += length;\n",
              "\n",
              "      const base64 = btoa(String.fromCharCode.apply(null, chunk));\n",
              "      yield {\n",
              "        response: {\n",
              "          action: 'append',\n",
              "          file: file.name,\n",
              "          data: base64,\n",
              "        },\n",
              "      };\n",
              "\n",
              "      let percentDone = fileData.byteLength === 0 ?\n",
              "          100 :\n",
              "          Math.round((position / fileData.byteLength) * 100);\n",
              "      percent.textContent = `${percentDone}% done`;\n",
              "\n",
              "    } while (position < fileData.byteLength);\n",
              "  }\n",
              "\n",
              "  // All done.\n",
              "  yield {\n",
              "    response: {\n",
              "      action: 'complete',\n",
              "    }\n",
              "  };\n",
              "}\n",
              "\n",
              "scope.google = scope.google || {};\n",
              "scope.google.colab = scope.google.colab || {};\n",
              "scope.google.colab._files = {\n",
              "  _uploadFiles,\n",
              "  _uploadFilesContinue,\n",
              "};\n",
              "})(self);\n",
              "</script> "
            ]
          },
          "metadata": {}
        },
        {
          "output_type": "stream",
          "name": "stdout",
          "text": [
            "Saving Weather.csv to Weather.csv\n"
          ]
        },
        {
          "output_type": "execute_result",
          "data": {
            "text/plain": [
              "                  Formatted Date        Summary Precip Type  Temperature (C)  \\\n",
              "0  2006-04-01 00:00:00.000 +0200  Partly Cloudy        rain         9.472222   \n",
              "1  2006-04-01 01:00:00.000 +0200  Partly Cloudy        rain         9.355556   \n",
              "2  2006-04-01 02:00:00.000 +0200  Mostly Cloudy        rain         9.377778   \n",
              "3  2006-04-01 03:00:00.000 +0200  Partly Cloudy        rain         8.288889   \n",
              "4  2006-04-01 04:00:00.000 +0200  Mostly Cloudy        rain         8.755556   \n",
              "\n",
              "   Apparent Temperature (C)  Humidity  Wind Speed (km/h)  \\\n",
              "0                  7.388889      0.89            14.1197   \n",
              "1                  7.227778      0.86            14.2646   \n",
              "2                  9.377778      0.89             3.9284   \n",
              "3                  5.944444      0.83            14.1036   \n",
              "4                  6.977778      0.83            11.0446   \n",
              "\n",
              "   Wind Bearing (degrees)  Visibility (km)  Loud Cover  Pressure (millibars)  \\\n",
              "0                   251.0          15.8263         0.0               1015.13   \n",
              "1                   259.0          15.8263         0.0               1015.63   \n",
              "2                   204.0          14.9569         0.0               1015.94   \n",
              "3                   269.0          15.8263         0.0               1016.41   \n",
              "4                   259.0          15.8263         0.0               1016.51   \n",
              "\n",
              "                       Daily Summary  \n",
              "0  Partly cloudy throughout the day.  \n",
              "1  Partly cloudy throughout the day.  \n",
              "2  Partly cloudy throughout the day.  \n",
              "3  Partly cloudy throughout the day.  \n",
              "4  Partly cloudy throughout the day.  "
            ],
            "text/html": [
              "\n",
              "  <div id=\"df-42743360-119a-4c64-81df-b2a30f873137\" class=\"colab-df-container\">\n",
              "    <div>\n",
              "<style scoped>\n",
              "    .dataframe tbody tr th:only-of-type {\n",
              "        vertical-align: middle;\n",
              "    }\n",
              "\n",
              "    .dataframe tbody tr th {\n",
              "        vertical-align: top;\n",
              "    }\n",
              "\n",
              "    .dataframe thead th {\n",
              "        text-align: right;\n",
              "    }\n",
              "</style>\n",
              "<table border=\"1\" class=\"dataframe\">\n",
              "  <thead>\n",
              "    <tr style=\"text-align: right;\">\n",
              "      <th></th>\n",
              "      <th>Formatted Date</th>\n",
              "      <th>Summary</th>\n",
              "      <th>Precip Type</th>\n",
              "      <th>Temperature (C)</th>\n",
              "      <th>Apparent Temperature (C)</th>\n",
              "      <th>Humidity</th>\n",
              "      <th>Wind Speed (km/h)</th>\n",
              "      <th>Wind Bearing (degrees)</th>\n",
              "      <th>Visibility (km)</th>\n",
              "      <th>Loud Cover</th>\n",
              "      <th>Pressure (millibars)</th>\n",
              "      <th>Daily Summary</th>\n",
              "    </tr>\n",
              "  </thead>\n",
              "  <tbody>\n",
              "    <tr>\n",
              "      <th>0</th>\n",
              "      <td>2006-04-01 00:00:00.000 +0200</td>\n",
              "      <td>Partly Cloudy</td>\n",
              "      <td>rain</td>\n",
              "      <td>9.472222</td>\n",
              "      <td>7.388889</td>\n",
              "      <td>0.89</td>\n",
              "      <td>14.1197</td>\n",
              "      <td>251.0</td>\n",
              "      <td>15.8263</td>\n",
              "      <td>0.0</td>\n",
              "      <td>1015.13</td>\n",
              "      <td>Partly cloudy throughout the day.</td>\n",
              "    </tr>\n",
              "    <tr>\n",
              "      <th>1</th>\n",
              "      <td>2006-04-01 01:00:00.000 +0200</td>\n",
              "      <td>Partly Cloudy</td>\n",
              "      <td>rain</td>\n",
              "      <td>9.355556</td>\n",
              "      <td>7.227778</td>\n",
              "      <td>0.86</td>\n",
              "      <td>14.2646</td>\n",
              "      <td>259.0</td>\n",
              "      <td>15.8263</td>\n",
              "      <td>0.0</td>\n",
              "      <td>1015.63</td>\n",
              "      <td>Partly cloudy throughout the day.</td>\n",
              "    </tr>\n",
              "    <tr>\n",
              "      <th>2</th>\n",
              "      <td>2006-04-01 02:00:00.000 +0200</td>\n",
              "      <td>Mostly Cloudy</td>\n",
              "      <td>rain</td>\n",
              "      <td>9.377778</td>\n",
              "      <td>9.377778</td>\n",
              "      <td>0.89</td>\n",
              "      <td>3.9284</td>\n",
              "      <td>204.0</td>\n",
              "      <td>14.9569</td>\n",
              "      <td>0.0</td>\n",
              "      <td>1015.94</td>\n",
              "      <td>Partly cloudy throughout the day.</td>\n",
              "    </tr>\n",
              "    <tr>\n",
              "      <th>3</th>\n",
              "      <td>2006-04-01 03:00:00.000 +0200</td>\n",
              "      <td>Partly Cloudy</td>\n",
              "      <td>rain</td>\n",
              "      <td>8.288889</td>\n",
              "      <td>5.944444</td>\n",
              "      <td>0.83</td>\n",
              "      <td>14.1036</td>\n",
              "      <td>269.0</td>\n",
              "      <td>15.8263</td>\n",
              "      <td>0.0</td>\n",
              "      <td>1016.41</td>\n",
              "      <td>Partly cloudy throughout the day.</td>\n",
              "    </tr>\n",
              "    <tr>\n",
              "      <th>4</th>\n",
              "      <td>2006-04-01 04:00:00.000 +0200</td>\n",
              "      <td>Mostly Cloudy</td>\n",
              "      <td>rain</td>\n",
              "      <td>8.755556</td>\n",
              "      <td>6.977778</td>\n",
              "      <td>0.83</td>\n",
              "      <td>11.0446</td>\n",
              "      <td>259.0</td>\n",
              "      <td>15.8263</td>\n",
              "      <td>0.0</td>\n",
              "      <td>1016.51</td>\n",
              "      <td>Partly cloudy throughout the day.</td>\n",
              "    </tr>\n",
              "  </tbody>\n",
              "</table>\n",
              "</div>\n",
              "    <div class=\"colab-df-buttons\">\n",
              "\n",
              "  <div class=\"colab-df-container\">\n",
              "    <button class=\"colab-df-convert\" onclick=\"convertToInteractive('df-42743360-119a-4c64-81df-b2a30f873137')\"\n",
              "            title=\"Convert this dataframe to an interactive table.\"\n",
              "            style=\"display:none;\">\n",
              "\n",
              "  <svg xmlns=\"http://www.w3.org/2000/svg\" height=\"24px\" viewBox=\"0 -960 960 960\">\n",
              "    <path d=\"M120-120v-720h720v720H120Zm60-500h600v-160H180v160Zm220 220h160v-160H400v160Zm0 220h160v-160H400v160ZM180-400h160v-160H180v160Zm440 0h160v-160H620v160ZM180-180h160v-160H180v160Zm440 0h160v-160H620v160Z\"/>\n",
              "  </svg>\n",
              "    </button>\n",
              "\n",
              "  <style>\n",
              "    .colab-df-container {\n",
              "      display:flex;\n",
              "      gap: 12px;\n",
              "    }\n",
              "\n",
              "    .colab-df-convert {\n",
              "      background-color: #E8F0FE;\n",
              "      border: none;\n",
              "      border-radius: 50%;\n",
              "      cursor: pointer;\n",
              "      display: none;\n",
              "      fill: #1967D2;\n",
              "      height: 32px;\n",
              "      padding: 0 0 0 0;\n",
              "      width: 32px;\n",
              "    }\n",
              "\n",
              "    .colab-df-convert:hover {\n",
              "      background-color: #E2EBFA;\n",
              "      box-shadow: 0px 1px 2px rgba(60, 64, 67, 0.3), 0px 1px 3px 1px rgba(60, 64, 67, 0.15);\n",
              "      fill: #174EA6;\n",
              "    }\n",
              "\n",
              "    .colab-df-buttons div {\n",
              "      margin-bottom: 4px;\n",
              "    }\n",
              "\n",
              "    [theme=dark] .colab-df-convert {\n",
              "      background-color: #3B4455;\n",
              "      fill: #D2E3FC;\n",
              "    }\n",
              "\n",
              "    [theme=dark] .colab-df-convert:hover {\n",
              "      background-color: #434B5C;\n",
              "      box-shadow: 0px 1px 3px 1px rgba(0, 0, 0, 0.15);\n",
              "      filter: drop-shadow(0px 1px 2px rgba(0, 0, 0, 0.3));\n",
              "      fill: #FFFFFF;\n",
              "    }\n",
              "  </style>\n",
              "\n",
              "    <script>\n",
              "      const buttonEl =\n",
              "        document.querySelector('#df-42743360-119a-4c64-81df-b2a30f873137 button.colab-df-convert');\n",
              "      buttonEl.style.display =\n",
              "        google.colab.kernel.accessAllowed ? 'block' : 'none';\n",
              "\n",
              "      async function convertToInteractive(key) {\n",
              "        const element = document.querySelector('#df-42743360-119a-4c64-81df-b2a30f873137');\n",
              "        const dataTable =\n",
              "          await google.colab.kernel.invokeFunction('convertToInteractive',\n",
              "                                                    [key], {});\n",
              "        if (!dataTable) return;\n",
              "\n",
              "        const docLinkHtml = 'Like what you see? Visit the ' +\n",
              "          '<a target=\"_blank\" href=https://colab.research.google.com/notebooks/data_table.ipynb>data table notebook</a>'\n",
              "          + ' to learn more about interactive tables.';\n",
              "        element.innerHTML = '';\n",
              "        dataTable['output_type'] = 'display_data';\n",
              "        await google.colab.output.renderOutput(dataTable, element);\n",
              "        const docLink = document.createElement('div');\n",
              "        docLink.innerHTML = docLinkHtml;\n",
              "        element.appendChild(docLink);\n",
              "      }\n",
              "    </script>\n",
              "  </div>\n",
              "\n",
              "\n",
              "<div id=\"df-90f75b48-0d22-47c1-8a39-1911474893ba\">\n",
              "  <button class=\"colab-df-quickchart\" onclick=\"quickchart('df-90f75b48-0d22-47c1-8a39-1911474893ba')\"\n",
              "            title=\"Suggest charts\"\n",
              "            style=\"display:none;\">\n",
              "\n",
              "<svg xmlns=\"http://www.w3.org/2000/svg\" height=\"24px\"viewBox=\"0 0 24 24\"\n",
              "     width=\"24px\">\n",
              "    <g>\n",
              "        <path d=\"M19 3H5c-1.1 0-2 .9-2 2v14c0 1.1.9 2 2 2h14c1.1 0 2-.9 2-2V5c0-1.1-.9-2-2-2zM9 17H7v-7h2v7zm4 0h-2V7h2v10zm4 0h-2v-4h2v4z\"/>\n",
              "    </g>\n",
              "</svg>\n",
              "  </button>\n",
              "\n",
              "<style>\n",
              "  .colab-df-quickchart {\n",
              "      --bg-color: #E8F0FE;\n",
              "      --fill-color: #1967D2;\n",
              "      --hover-bg-color: #E2EBFA;\n",
              "      --hover-fill-color: #174EA6;\n",
              "      --disabled-fill-color: #AAA;\n",
              "      --disabled-bg-color: #DDD;\n",
              "  }\n",
              "\n",
              "  [theme=dark] .colab-df-quickchart {\n",
              "      --bg-color: #3B4455;\n",
              "      --fill-color: #D2E3FC;\n",
              "      --hover-bg-color: #434B5C;\n",
              "      --hover-fill-color: #FFFFFF;\n",
              "      --disabled-bg-color: #3B4455;\n",
              "      --disabled-fill-color: #666;\n",
              "  }\n",
              "\n",
              "  .colab-df-quickchart {\n",
              "    background-color: var(--bg-color);\n",
              "    border: none;\n",
              "    border-radius: 50%;\n",
              "    cursor: pointer;\n",
              "    display: none;\n",
              "    fill: var(--fill-color);\n",
              "    height: 32px;\n",
              "    padding: 0;\n",
              "    width: 32px;\n",
              "  }\n",
              "\n",
              "  .colab-df-quickchart:hover {\n",
              "    background-color: var(--hover-bg-color);\n",
              "    box-shadow: 0 1px 2px rgba(60, 64, 67, 0.3), 0 1px 3px 1px rgba(60, 64, 67, 0.15);\n",
              "    fill: var(--button-hover-fill-color);\n",
              "  }\n",
              "\n",
              "  .colab-df-quickchart-complete:disabled,\n",
              "  .colab-df-quickchart-complete:disabled:hover {\n",
              "    background-color: var(--disabled-bg-color);\n",
              "    fill: var(--disabled-fill-color);\n",
              "    box-shadow: none;\n",
              "  }\n",
              "\n",
              "  .colab-df-spinner {\n",
              "    border: 2px solid var(--fill-color);\n",
              "    border-color: transparent;\n",
              "    border-bottom-color: var(--fill-color);\n",
              "    animation:\n",
              "      spin 1s steps(1) infinite;\n",
              "  }\n",
              "\n",
              "  @keyframes spin {\n",
              "    0% {\n",
              "      border-color: transparent;\n",
              "      border-bottom-color: var(--fill-color);\n",
              "      border-left-color: var(--fill-color);\n",
              "    }\n",
              "    20% {\n",
              "      border-color: transparent;\n",
              "      border-left-color: var(--fill-color);\n",
              "      border-top-color: var(--fill-color);\n",
              "    }\n",
              "    30% {\n",
              "      border-color: transparent;\n",
              "      border-left-color: var(--fill-color);\n",
              "      border-top-color: var(--fill-color);\n",
              "      border-right-color: var(--fill-color);\n",
              "    }\n",
              "    40% {\n",
              "      border-color: transparent;\n",
              "      border-right-color: var(--fill-color);\n",
              "      border-top-color: var(--fill-color);\n",
              "    }\n",
              "    60% {\n",
              "      border-color: transparent;\n",
              "      border-right-color: var(--fill-color);\n",
              "    }\n",
              "    80% {\n",
              "      border-color: transparent;\n",
              "      border-right-color: var(--fill-color);\n",
              "      border-bottom-color: var(--fill-color);\n",
              "    }\n",
              "    90% {\n",
              "      border-color: transparent;\n",
              "      border-bottom-color: var(--fill-color);\n",
              "    }\n",
              "  }\n",
              "</style>\n",
              "\n",
              "  <script>\n",
              "    async function quickchart(key) {\n",
              "      const quickchartButtonEl =\n",
              "        document.querySelector('#' + key + ' button');\n",
              "      quickchartButtonEl.disabled = true;  // To prevent multiple clicks.\n",
              "      quickchartButtonEl.classList.add('colab-df-spinner');\n",
              "      try {\n",
              "        const charts = await google.colab.kernel.invokeFunction(\n",
              "            'suggestCharts', [key], {});\n",
              "      } catch (error) {\n",
              "        console.error('Error during call to suggestCharts:', error);\n",
              "      }\n",
              "      quickchartButtonEl.classList.remove('colab-df-spinner');\n",
              "      quickchartButtonEl.classList.add('colab-df-quickchart-complete');\n",
              "    }\n",
              "    (() => {\n",
              "      let quickchartButtonEl =\n",
              "        document.querySelector('#df-90f75b48-0d22-47c1-8a39-1911474893ba button');\n",
              "      quickchartButtonEl.style.display =\n",
              "        google.colab.kernel.accessAllowed ? 'block' : 'none';\n",
              "    })();\n",
              "  </script>\n",
              "</div>\n",
              "    </div>\n",
              "  </div>\n"
            ]
          },
          "metadata": {},
          "execution_count": 1
        }
      ],
      "source": [
        "import pandas as pd\n",
        "import numpy as np\n",
        "from sklearn.preprocessing import MinMaxScaler\n",
        "from sklearn.model_selection import train_test_split\n",
        "from tensorflow.keras.models import Sequential\n",
        "from tensorflow.keras.layers import LSTM, Dense, Dropout\n",
        "from tensorflow.keras.optimizers import Adam\n",
        "import matplotlib.pyplot as plt\n",
        "from google.colab import drive\n",
        "from tensorflow.keras.callbacks import EarlyStopping\n",
        "from tensorflow.keras.metrics import MeanAbsoluteError\n",
        "from google.colab import files\n",
        "import os\n",
        "\n",
        "def check_and_reconnect_drive():\n",
        "    drive_path = './drive/MyDrive/dataset/Weather.csv'\n",
        "    try:\n",
        "        # Check if Google Drive is still connected and file exists\n",
        "        if os.path.exists(drive_path):\n",
        "            return drive_path\n",
        "        else:\n",
        "            raise FileNotFoundError\n",
        "    except FileNotFoundError:\n",
        "        # If not, reconnect Google Drive and ask user to upload the file\n",
        "        drive.mount('/content/drive')\n",
        "        print(\"Please upload 'Weather.csv'\")\n",
        "        uploaded = files.upload()\n",
        "        for filename in uploaded.keys():\n",
        "            if filename.endswith('.csv'):\n",
        "                return filename\n",
        "\n",
        "# Use the function to get the file path\n",
        "csv_file_path = check_and_reconnect_drive()\n",
        "\n",
        "# Read the CSV file using pandas\n",
        "df = pd.read_csv(csv_file_path)\n",
        "df.head()"
      ]
    },
    {
      "cell_type": "code",
      "source": [
        "# Feature Engineering from dates and times\n",
        "df['Formatted Date'] = pd.to_datetime(df['Formatted Date'], utc=True)\n",
        "df['hour'] = df['Formatted Date'].dt.hour\n",
        "df['day'] = df['Formatted Date'].dt.day\n",
        "df['month'] = df['Formatted Date'].dt.month\n",
        "df['year'] = df['Formatted Date'].dt.year\n",
        "df['day_of_week'] = df['Formatted Date'].dt.dayofweek\n",
        "\n",
        "# Create cyclical features for time data\n",
        "df['hour_sin'] = np.sin(df['hour'] * (2 * np.pi / 24))\n",
        "df['hour_cos'] = np.cos(df['hour'] * (2 * np.pi / 24))\n",
        "df['day_sin'] = np.sin(df['day'] * (2 * np.pi / 30))\n",
        "df['day_cos'] = np.cos(df['day'] * (2 * np.pi / 30))\n",
        "df['month_sin'] = np.sin((df['month']-1) * (2 * np.pi / 12))\n",
        "df['month_cos'] = np.cos((df['month']-1) * (2 * np.pi / 12))\n",
        "df['day_of_week_sin'] = np.sin(df['day_of_week'] * (2 * np.pi / 7))\n",
        "df['day_of_week_cos'] = np.cos(df['day_of_week'] * (2 * np.pi / 7))\n",
        "\n",
        "# Selecting features and target\n",
        "features = df.drop(['Loud Cover', 'Formatted Date', 'Precip Type', 'Daily Summary'], axis=1)\n",
        "target = df['Temperature (C)']\n",
        "\n",
        "# One-hot encoding categorical variables\n",
        "features = pd.get_dummies(features)\n",
        "\n",
        "# Normalize the features\n",
        "scaler = MinMaxScaler(feature_range=(0, 1))\n",
        "scaled_features = scaler.fit_transform(features)\n"
      ],
      "metadata": {
        "id": "pJwpDr7KQ2tj"
      },
      "execution_count": null,
      "outputs": []
    },
    {
      "cell_type": "code",
      "source": [
        "# Convert data to sequences\n",
        "time_steps = 80\n",
        "X_data, y_data = [], []\n",
        "for i in range(time_steps, len(scaled_features)):\n",
        "    X_data.append(scaled_features[i-time_steps:i])\n",
        "    y_data.append(target[i])\n",
        "X_data, y_data = np.array(X_data), np.array(y_data)"
      ],
      "metadata": {
        "id": "-onU5mkDRPtY"
      },
      "execution_count": null,
      "outputs": []
    },
    {
      "cell_type": "code",
      "source": [
        "# Splitting the data into 70% for training and 15% for validation and 15% for testing\n",
        "train_size = int(0.7 * len(X_data))\n",
        "val_size = train_size + int(0.15 * len(X_data))# next 15% of data for validation\n",
        "\n",
        "# Split the data while maintaining the sequence order\n",
        "X_train = X_data[:train_size]\n",
        "y_train = y_data[:train_size]\n",
        "X_val = X_data[train_size:val_size]\n",
        "y_val = y_data[train_size:val_size]\n",
        "X_test = X_data[val_size:]\n",
        "y_test = y_data[val_size:]\n",
        "#X_train, X_val, y_train, y_val = train_test_split(X_data, y_data, test_size=0.2, random_state=42)"
      ],
      "metadata": {
        "id": "G-BClNrSRalQ"
      },
      "execution_count": null,
      "outputs": []
    },
    {
      "cell_type": "markdown",
      "source": [
        "Feature Generating with Layer, Neurons, Learning Rate and Activation Functions."
      ],
      "metadata": {
        "id": "80GNbimGSdxc"
      }
    },
    {
      "cell_type": "markdown",
      "source": [
        "## 1. Layer and Neuron Configuration\n",
        "- **Number of Layers**: Start with 2 layers and increase based on model performance and overfitting.\n",
        "- **Neurons in Each Layer**: Begin with a 30 number of neurons per layer."
      ],
      "metadata": {
        "id": "sSR6gvcVUjAf"
      }
    },
    {
      "cell_type": "markdown",
      "source": [
        "\n",
        "Try three layers with 30 neurons, learing rate 0.0001, batch_size:64\n"
      ],
      "metadata": {
        "id": "DT-EJ60bMwEv"
      }
    },
    {
      "cell_type": "code",
      "source": [
        "# Define the LSTM model: Three layers with 30 units\n",
        "model = Sequential()\n",
        "model.add(LSTM(units=30, return_sequences=True, input_shape=(X_train.shape[1], X_train.shape[2])))\n",
        "model.add(LSTM(units=30, return_sequences=True))\n",
        "model.add(LSTM(units=30))\n",
        "model.add(Dense(units=1))\n",
        "\n",
        "model.compile(optimizer=Adam(learning_rate=0.0001), loss='mean_squared_error', metrics=[MeanAbsoluteError()])\n",
        "\n",
        "# early stopping\n",
        "early_stopping = EarlyStopping(monitor='val_loss', patience=20, restore_best_weights=True)\n",
        "\n",
        "# traning model\n",
        "history = model.fit(X_train, y_train, epochs=20, batch_size=64, validation_data=(X_val, y_val), callbacks=[early_stopping], verbose=1)\n"
      ],
      "metadata": {
        "colab": {
          "base_uri": "https://localhost:8080/"
        },
        "id": "Mnh5f6eXUAIh",
        "outputId": "1342c235-9d33-4707-9965-b6c45bc63498"
      },
      "execution_count": null,
      "outputs": [
        {
          "output_type": "stream",
          "name": "stdout",
          "text": [
            "Epoch 1/20\n",
            "1055/1055 [==============================] - 98s 89ms/step - loss: 124.2780 - mean_absolute_error: 8.8276 - val_loss: 66.9990 - val_mean_absolute_error: 6.3036\n",
            "Epoch 2/20\n",
            "1055/1055 [==============================] - 90s 85ms/step - loss: 65.4594 - mean_absolute_error: 6.0008 - val_loss: 39.6195 - val_mean_absolute_error: 4.5904\n",
            "Epoch 3/20\n",
            "1055/1055 [==============================] - 90s 85ms/step - loss: 42.6578 - mean_absolute_error: 4.6578 - val_loss: 25.9339 - val_mean_absolute_error: 3.6394\n",
            "Epoch 4/20\n",
            "1055/1055 [==============================] - 90s 86ms/step - loss: 29.1742 - mean_absolute_error: 3.7600 - val_loss: 17.8846 - val_mean_absolute_error: 2.9835\n",
            "Epoch 5/20\n",
            "1055/1055 [==============================] - 90s 86ms/step - loss: 20.2990 - mean_absolute_error: 3.0839 - val_loss: 13.4134 - val_mean_absolute_error: 2.6387\n",
            "Epoch 6/20\n",
            "1055/1055 [==============================] - 91s 86ms/step - loss: 14.3303 - mean_absolute_error: 2.5771 - val_loss: 9.0083 - val_mean_absolute_error: 2.0880\n",
            "Epoch 7/20\n",
            "1055/1055 [==============================] - 90s 86ms/step - loss: 10.3420 - mean_absolute_error: 2.1947 - val_loss: 7.4157 - val_mean_absolute_error: 1.9580\n",
            "Epoch 8/20\n",
            "1055/1055 [==============================] - 90s 85ms/step - loss: 7.7479 - mean_absolute_error: 1.9168 - val_loss: 5.3723 - val_mean_absolute_error: 1.6412\n",
            "Epoch 9/20\n",
            "1055/1055 [==============================] - 90s 85ms/step - loss: 6.0620 - mean_absolute_error: 1.7157 - val_loss: 4.5373 - val_mean_absolute_error: 1.5227\n",
            "Epoch 10/20\n",
            "1055/1055 [==============================] - 91s 86ms/step - loss: 4.9625 - mean_absolute_error: 1.5660 - val_loss: 3.8426 - val_mean_absolute_error: 1.4081\n",
            "Epoch 11/20\n",
            "1055/1055 [==============================] - 89s 85ms/step - loss: 4.2313 - mean_absolute_error: 1.4513 - val_loss: 3.3337 - val_mean_absolute_error: 1.3164\n",
            "Epoch 12/20\n",
            "1055/1055 [==============================] - 90s 85ms/step - loss: 3.7109 - mean_absolute_error: 1.3603 - val_loss: 4.3135 - val_mean_absolute_error: 1.6049\n",
            "Epoch 13/20\n",
            "1055/1055 [==============================] - 91s 86ms/step - loss: 3.3525 - mean_absolute_error: 1.2919 - val_loss: 2.9609 - val_mean_absolute_error: 1.2433\n",
            "Epoch 14/20\n",
            "1055/1055 [==============================] - 90s 86ms/step - loss: 3.0523 - mean_absolute_error: 1.2285 - val_loss: 2.4828 - val_mean_absolute_error: 1.1366\n",
            "Epoch 15/20\n",
            "1055/1055 [==============================] - 90s 85ms/step - loss: 2.8322 - mean_absolute_error: 1.1788 - val_loss: 2.2879 - val_mean_absolute_error: 1.0920\n",
            "Epoch 16/20\n",
            "1055/1055 [==============================] - 90s 86ms/step - loss: 2.6231 - mean_absolute_error: 1.1297 - val_loss: 2.5287 - val_mean_absolute_error: 1.1816\n",
            "Epoch 17/20\n",
            "1055/1055 [==============================] - 91s 86ms/step - loss: 2.4745 - mean_absolute_error: 1.0924 - val_loss: 2.0400 - val_mean_absolute_error: 1.0265\n",
            "Epoch 18/20\n",
            "1055/1055 [==============================] - 90s 85ms/step - loss: 2.3270 - mean_absolute_error: 1.0537 - val_loss: 1.8396 - val_mean_absolute_error: 0.9598\n",
            "Epoch 19/20\n",
            "1055/1055 [==============================] - 90s 85ms/step - loss: 2.2019 - mean_absolute_error: 1.0184 - val_loss: 1.6859 - val_mean_absolute_error: 0.9129\n",
            "Epoch 20/20\n",
            "1055/1055 [==============================] - 90s 86ms/step - loss: 2.0944 - mean_absolute_error: 0.9880 - val_loss: 1.7226 - val_mean_absolute_error: 0.9204\n"
          ]
        }
      ]
    },
    {
      "cell_type": "code",
      "source": [
        "import matplotlib.pyplot as plt\n",
        "\n",
        "# Assuming 'history' is the result returned by the 'model.fit()' call\n",
        "\n",
        "# Plot training & validation error values\n",
        "plt.figure(figsize=(10, 5))\n",
        "plt.plot(history.history['loss'], label='Training Error')\n",
        "plt.plot(history.history['val_loss'], label='Validation Error')\n",
        "plt.title('Model error')\n",
        "plt.ylabel('Error')\n",
        "plt.xlabel('Epoch')\n",
        "plt.legend(loc='upper right')\n",
        "plt.show()\n"
      ],
      "metadata": {
        "colab": {
          "base_uri": "https://localhost:8080/",
          "height": 479
        },
        "id": "SljK-KqmYtKI",
        "outputId": "013c12c6-9b8e-4dc0-ac23-a4f349ee79b5"
      },
      "execution_count": null,
      "outputs": [
        {
          "output_type": "display_data",
          "data": {
            "text/plain": [
              "<Figure size 1000x500 with 1 Axes>"
            ],
            "image/png": "[encoded data removed]"
          },
          "metadata": {}
        }
      ]
    },
    {
      "cell_type": "markdown",
      "source": [
        "Calculate R2 Score"
      ],
      "metadata": {
        "id": "13T4G74Jw5p2"
      }
    },
    {
      "cell_type": "code",
      "source": [
        "from sklearn.metrics import r2_score\n",
        "\n",
        "# Predict the values using the trained model\n",
        "y_train_pred = model.predict(X_train)\n",
        "y_val_pred = model.predict(X_val)\n",
        "\n",
        "# Calculate R-squared value for training and validation sets\n",
        "r_squared_train = r2_score(y_train, y_train_pred)\n",
        "r_squared_val = r2_score(y_val, y_val_pred)\n",
        "\n",
        "print(f'R-squared for Training Set: {r_squared_train}')\n",
        "print(f'R-squared for Validation Set: {r_squared_val}')\n",
        "\n",
        "# Plotting R-squared values\n",
        "plt.figure(figsize=(10, 5))\n",
        "plt.bar(['Training R^2', 'Validation R^2'], [r_squared_train, r_squared_val], color=['blue', 'orange'])\n",
        "plt.title('R-squared values for Training and Validation Sets')\n",
        "plt.ylabel('R-squared value')\n",
        "plt.ylim(0, 1)  # R-squared value range from 0 to 1\n",
        "plt.show()\n"
      ],
      "metadata": {
        "colab": {
          "base_uri": "https://localhost:8080/",
          "height": 537
        },
        "id": "u2T8Plo3b4Gm",
        "outputId": "2bba6abc-e443-4f34-fa21-6d48418f5308"
      },
      "execution_count": null,
      "outputs": [
        {
          "output_type": "stream",
          "name": "stdout",
          "text": [
            "2110/2110 [==============================] - 23s 10ms/step\n",
            "453/453 [==============================] - 3s 6ms/step\n",
            "R-squared for Training Set: 0.9834934758100159\n",
            "R-squared for Validation Set: 0.982446197147598\n"
          ]
        },
        {
          "output_type": "display_data",
          "data": {
            "text/plain": [
              "<Figure size 1000x500 with 1 Axes>"
            ],
            "image/png": "[encoded data removed]"
          },
          "metadata": {}
        }
      ]
    },
    {
      "cell_type": "markdown",
      "source": [
        "2. Try three layers with 50 neurons, learing rate 0.01, batch_size:128, Dropout(0.01), activation='tanh'\n",
        "\n",
        "---\n",
        "正则化过度？\n"
      ],
      "metadata": {
        "id": "t62kHMpRd2HA"
      }
    },
    {
      "cell_type": "code",
      "source": [
        "from tensorflow.keras.optimizers import SGD\n",
        "\n",
        "# Define the LSTM model with three layers and a dropout rate of 0.1\n",
        "model = Sequential()\n",
        "model.add(LSTM(units=20, return_sequences=True, input_shape=(X_train.shape[1], X_train.shape[2])))\n",
        "model.add(Dropout(0.001))  # Adding dropout for regularization\n",
        "model.add(LSTM(units=20, return_sequences=True))\n",
        "model.add(Dropout(0.001))  # Adding dropout for regularization\n",
        "model.add(LSTM(units=20))\n",
        "model.add(Dropout(0.001))  # Adding dropout for regularization\n",
        "model.add(Dense(units=1))\n",
        "\n",
        "# Use SGD optimizer instead of Adam, set appropriate learning rate and momentum\n",
        "optimizer = SGD(learning_rate=0.01, momentum=0.9)\n",
        "\n",
        "model.compile(optimizer=optimizer, loss='mean_squared_error', metrics=[MeanAbsoluteError()])\n",
        "\n",
        "# early stopping\n",
        "early_stopping = EarlyStopping(monitor='val_loss', patience=20, restore_best_weights=True)\n",
        "\n",
        "# traning model\n",
        "history = model.fit(X_train, y_train, epochs=30, batch_size=128, validation_data=(X_val, y_val), callbacks=[early_stopping], verbose=1)"
      ],
      "metadata": {
        "colab": {
          "base_uri": "https://localhost:8080/"
        },
        "id": "R8iGbY5Ad3dz",
        "outputId": "dccfe433-074b-4654-e5af-51e4d639d3fe"
      },
      "execution_count": null,
      "outputs": [
        {
          "output_type": "stream",
          "name": "stdout",
          "text": [
            "Epoch 1/30\n",
            "528/528 [==============================] - 21s 29ms/step - loss: 34.7090 - mean_absolute_error: 3.8624 - val_loss: 2.6928 - val_mean_absolute_error: 1.3046\n",
            "Epoch 2/30\n",
            "528/528 [==============================] - 12s 24ms/step - loss: 2.6720 - mean_absolute_error: 1.1591 - val_loss: 1.4589 - val_mean_absolute_error: 0.8536\n",
            "Epoch 3/30\n",
            "528/528 [==============================] - 12s 23ms/step - loss: 2.2369 - mean_absolute_error: 1.0387 - val_loss: 1.4996 - val_mean_absolute_error: 0.8677\n",
            "Epoch 4/30\n",
            "528/528 [==============================] - 14s 27ms/step - loss: 2.0267 - mean_absolute_error: 0.9664 - val_loss: 1.3240 - val_mean_absolute_error: 0.7765\n",
            "Epoch 5/30\n",
            "528/528 [==============================] - 14s 26ms/step - loss: 2.0138 - mean_absolute_error: 0.9651 - val_loss: 1.1941 - val_mean_absolute_error: 0.7331\n",
            "Epoch 6/30\n",
            "528/528 [==============================] - 12s 24ms/step - loss: 1.9060 - mean_absolute_error: 0.9310 - val_loss: 1.6066 - val_mean_absolute_error: 0.9180\n",
            "Epoch 7/30\n",
            "528/528 [==============================] - 12s 23ms/step - loss: 1.8534 - mean_absolute_error: 0.9161 - val_loss: 1.2149 - val_mean_absolute_error: 0.7368\n",
            "Epoch 8/30\n",
            "528/528 [==============================] - 15s 28ms/step - loss: 1.8377 - mean_absolute_error: 0.9138 - val_loss: 1.3841 - val_mean_absolute_error: 0.8098\n",
            "Epoch 9/30\n",
            "528/528 [==============================] - 14s 26ms/step - loss: 1.7723 - mean_absolute_error: 0.8882 - val_loss: 1.1150 - val_mean_absolute_error: 0.6964\n",
            "Epoch 10/30\n",
            "528/528 [==============================] - 13s 24ms/step - loss: 1.7145 - mean_absolute_error: 0.8689 - val_loss: 1.1490 - val_mean_absolute_error: 0.7043\n",
            "Epoch 11/30\n",
            "528/528 [==============================] - 12s 23ms/step - loss: 1.6974 - mean_absolute_error: 0.8618 - val_loss: 1.1017 - val_mean_absolute_error: 0.6886\n",
            "Epoch 12/30\n",
            "528/528 [==============================] - 14s 27ms/step - loss: 1.6364 - mean_absolute_error: 0.8377 - val_loss: 1.0944 - val_mean_absolute_error: 0.6752\n",
            "Epoch 13/30\n",
            "528/528 [==============================] - 14s 26ms/step - loss: 1.6939 - mean_absolute_error: 0.8625 - val_loss: 1.1170 - val_mean_absolute_error: 0.7041\n",
            "Epoch 14/30\n",
            "528/528 [==============================] - 13s 25ms/step - loss: 1.6510 - mean_absolute_error: 0.8463 - val_loss: 1.2511 - val_mean_absolute_error: 0.7471\n",
            "Epoch 15/30\n",
            "528/528 [==============================] - 12s 22ms/step - loss: 1.6061 - mean_absolute_error: 0.8299 - val_loss: 1.1939 - val_mean_absolute_error: 0.7436\n",
            "Epoch 16/30\n",
            "528/528 [==============================] - 14s 27ms/step - loss: 1.6108 - mean_absolute_error: 0.8323 - val_loss: 1.1929 - val_mean_absolute_error: 0.7269\n",
            "Epoch 17/30\n",
            "528/528 [==============================] - 14s 26ms/step - loss: 1.6081 - mean_absolute_error: 0.8330 - val_loss: 1.5198 - val_mean_absolute_error: 0.9068\n",
            "Epoch 18/30\n",
            "528/528 [==============================] - 14s 26ms/step - loss: 1.5797 - mean_absolute_error: 0.8179 - val_loss: 1.1388 - val_mean_absolute_error: 0.7055\n",
            "Epoch 19/30\n",
            "528/528 [==============================] - 12s 22ms/step - loss: 1.5557 - mean_absolute_error: 0.8124 - val_loss: 1.1263 - val_mean_absolute_error: 0.7066\n",
            "Epoch 20/30\n",
            "528/528 [==============================] - 13s 25ms/step - loss: 1.5439 - mean_absolute_error: 0.8061 - val_loss: 1.0660 - val_mean_absolute_error: 0.6681\n",
            "Epoch 21/30\n",
            "528/528 [==============================] - 14s 27ms/step - loss: 1.5232 - mean_absolute_error: 0.7977 - val_loss: 1.0849 - val_mean_absolute_error: 0.6839\n",
            "Epoch 22/30\n",
            "528/528 [==============================] - 14s 27ms/step - loss: 1.5342 - mean_absolute_error: 0.8018 - val_loss: 1.2571 - val_mean_absolute_error: 0.7792\n",
            "Epoch 23/30\n",
            "528/528 [==============================] - 12s 24ms/step - loss: 1.5401 - mean_absolute_error: 0.8053 - val_loss: 1.0800 - val_mean_absolute_error: 0.6875\n",
            "Epoch 24/30\n",
            "528/528 [==============================] - 13s 24ms/step - loss: 1.5462 - mean_absolute_error: 0.8098 - val_loss: 1.1673 - val_mean_absolute_error: 0.7369\n",
            "Epoch 25/30\n",
            "528/528 [==============================] - 14s 27ms/step - loss: 1.5391 - mean_absolute_error: 0.8099 - val_loss: 1.1096 - val_mean_absolute_error: 0.6987\n",
            "Epoch 26/30\n",
            "528/528 [==============================] - 14s 27ms/step - loss: 1.4980 - mean_absolute_error: 0.7877 - val_loss: 1.1611 - val_mean_absolute_error: 0.7307\n",
            "Epoch 27/30\n",
            "528/528 [==============================] - 13s 25ms/step - loss: 1.4971 - mean_absolute_error: 0.7888 - val_loss: 1.2197 - val_mean_absolute_error: 0.7720\n",
            "Epoch 28/30\n",
            "528/528 [==============================] - 11s 22ms/step - loss: 1.4986 - mean_absolute_error: 0.7932 - val_loss: 1.1985 - val_mean_absolute_error: 0.7378\n",
            "Epoch 29/30\n",
            "528/528 [==============================] - 13s 25ms/step - loss: 1.4887 - mean_absolute_error: 0.7873 - val_loss: 1.2258 - val_mean_absolute_error: 0.7664\n",
            "Epoch 30/30\n",
            "528/528 [==============================] - 14s 27ms/step - loss: 1.4635 - mean_absolute_error: 0.7772 - val_loss: 1.1508 - val_mean_absolute_error: 0.7161\n"
          ]
        }
      ]
    },
    {
      "cell_type": "code",
      "source": [
        "# Plot training & validation error values\n",
        "plt.figure(figsize=(10, 5))\n",
        "plt.plot(history.history['loss'], label='Training Error')\n",
        "plt.plot(history.history['val_loss'], label='Validation Error')\n",
        "plt.title('Model error')\n",
        "plt.ylabel('Error')\n",
        "plt.xlabel('Epoch')\n",
        "plt.legend(loc='upper right')\n",
        "plt.show()"
      ],
      "metadata": {
        "colab": {
          "base_uri": "https://localhost:8080/",
          "height": 484
        },
        "id": "urH8kuVph8LT",
        "outputId": "dd3d079d-40f5-4e5b-a246-c99ba9fc3093"
      },
      "execution_count": null,
      "outputs": [
        {
          "output_type": "display_data",
          "data": {
            "text/plain": [
              "<Figure size 1000x500 with 1 Axes>"
            ],
            "image/png": "[encoded data removed]"
          },
          "metadata": {}
        }
      ]
    },
    {
      "cell_type": "code",
      "source": [
        "from sklearn.metrics import mean_squared_error\n",
        "from math import sqrt\n",
        "import matplotlib.pyplot as plt\n",
        "\n",
        "# Predict the outputs with the model\n",
        "y_train_pred = model.predict(X_train)\n",
        "y_val_pred = model.predict(X_val)\n",
        "\n",
        "# Calculate RMSE for training and validation sets\n",
        "rmse_train = sqrt(mean_squared_error(y_train, y_train_pred))\n",
        "rmse_val = sqrt(mean_squared_error(y_val, y_val_pred))\n",
        "\n",
        "print(f'RMSE for Training Set: {rmse_train}')\n",
        "print(f'RMSE for Validation Set: {rmse_val}')\n",
        "\n",
        "# Plot the RMSE values\n",
        "plt.figure(figsize=(10, 5))\n",
        "plt.bar(['Training RMSE', 'Validation RMSE'], [rmse_train, rmse_val], color=['blue', 'orange'])\n",
        "plt.title('Root Mean Square Error for Training and Validation Sets')\n",
        "plt.ylabel('RMSE')\n",
        "plt.show()\n"
      ],
      "metadata": {
        "colab": {
          "base_uri": "https://localhost:8080/",
          "height": 532
        },
        "id": "iEtT3jcziSxa",
        "outputId": "9d5a6b88-3916-49c3-e93f-ded393eda4b2"
      },
      "execution_count": null,
      "outputs": [
        {
          "output_type": "stream",
          "name": "stdout",
          "text": [
            "2110/2110 [==============================] - 13s 5ms/step\n",
            "453/453 [==============================] - 2s 5ms/step\n",
            "RMSE for Training Set: 1.217330021820169\n",
            "RMSE for Validation Set: 1.0727384364404957\n"
          ]
        },
        {
          "output_type": "display_data",
          "data": {
            "text/plain": [
              "<Figure size 1000x500 with 1 Axes>"
            ],
            "image/png": "[encoded data removed]"
          },
          "metadata": {}
        }
      ]
    },
    {
      "cell_type": "markdown",
      "source": [
        "3. Try three layers with 100 neurons, learing rate 0.01, batch_size:128, activation='tanh', Dropout(0.001)\n",
        "\n",
        "\n",
        "---\n",
        "从您提供的RMSE（均方根误差）值来看，模型在训练集和验证集上的性能相当接近，这是一个良好的迹象，说明模型没有在训练集上过度拟合。两者之间的差距很小，训练误差略低于验证误差，这是典型的预期结果，因为模型直接在训练数据上学习。\n",
        "\n",
        "\n",
        "---\n",
        "\n",
        "\n"
      ],
      "metadata": {
        "id": "-6PNPRjHcbCS"
      }
    },
    {
      "cell_type": "code",
      "source": [
        "model = Sequential()\n",
        "model.add(LSTM(units=50, return_sequences=True, input_shape=(X_train.shape[1], X_train.shape[2]), activation='tanh'))\n",
        "model.add(Dropout(0.05))\n",
        "model.add(LSTM(units=50, return_sequences=True, activation='tanh'))  # The second LSTM layer should not return sequences as it is the last LSTM layer before the Dense output layer\n",
        "model.add(Dropout(0.05))\n",
        "model.add(LSTM(units=50))  # The last LSTM layer should not return sequences\n",
        "model.add(Dropout(0.05))\n",
        "model.add(Dense(units=1, activation='linear'))  # Output layer\n",
        "\n",
        "\n",
        "\n",
        "# Use SGD optimizer instead of Adam, set appropriate learning rate and momentum\n",
        "optimizer = SGD(learning_rate=0.01, momentum=0.9)\n",
        "\n",
        "model.compile(optimizer=optimizer, loss='mean_squared_error', metrics=[MeanAbsoluteError()])\n",
        "\n",
        "# early stopping\n",
        "early_stopping = EarlyStopping(monitor='val_loss', patience=20, restore_best_weights=True)\n",
        "\n",
        "# traning model\n",
        "history = model.fit(X_train, y_train, epochs=30, batch_size=128, validation_data=(X_val, y_val), callbacks=[early_stopping], verbose=1)\n"
      ],
      "metadata": {
        "colab": {
          "base_uri": "https://localhost:8080/"
        },
        "id": "zSCWX0Z-fiPw",
        "outputId": "52c7bb77-1952-4237-dbed-cb4f390ce5f4"
      },
      "execution_count": null,
      "outputs": [
        {
          "output_type": "stream",
          "name": "stdout",
          "text": [
            "Epoch 1/30\n",
            "528/528 [==============================] - 29s 45ms/step - loss: 18.8673 - mean_absolute_error: 2.7813 - val_loss: 2.3888 - val_mean_absolute_error: 1.1914\n",
            "Epoch 2/30\n",
            "528/528 [==============================] - 23s 44ms/step - loss: 3.2139 - mean_absolute_error: 1.3111 - val_loss: 1.9066 - val_mean_absolute_error: 0.9837\n",
            "Epoch 3/30\n",
            "528/528 [==============================] - 21s 40ms/step - loss: 2.7197 - mean_absolute_error: 1.1817 - val_loss: 1.5379 - val_mean_absolute_error: 0.8815\n",
            "Epoch 4/30\n",
            "528/528 [==============================] - 21s 40ms/step - loss: 2.5794 - mean_absolute_error: 1.1469 - val_loss: 1.5281 - val_mean_absolute_error: 0.8881\n",
            "Epoch 5/30\n",
            "528/528 [==============================] - 23s 44ms/step - loss: 2.3763 - mean_absolute_error: 1.0900 - val_loss: 1.3737 - val_mean_absolute_error: 0.8229\n",
            "Epoch 6/30\n",
            "528/528 [==============================] - 23s 43ms/step - loss: 2.3060 - mean_absolute_error: 1.0682 - val_loss: 1.4193 - val_mean_absolute_error: 0.8101\n",
            "Epoch 7/30\n",
            "528/528 [==============================] - 22s 42ms/step - loss: 2.2200 - mean_absolute_error: 1.0454 - val_loss: 1.3333 - val_mean_absolute_error: 0.7955\n",
            "Epoch 8/30\n",
            "528/528 [==============================] - 23s 43ms/step - loss: 2.1352 - mean_absolute_error: 1.0204 - val_loss: 1.2515 - val_mean_absolute_error: 0.7481\n",
            "Epoch 9/30\n",
            "528/528 [==============================] - 22s 43ms/step - loss: 2.0823 - mean_absolute_error: 1.0042 - val_loss: 1.2779 - val_mean_absolute_error: 0.7492\n",
            "Epoch 10/30\n",
            "528/528 [==============================] - 22s 42ms/step - loss: 2.0305 - mean_absolute_error: 0.9875 - val_loss: 1.3626 - val_mean_absolute_error: 0.8154\n",
            "Epoch 11/30\n",
            "528/528 [==============================] - 22s 42ms/step - loss: 2.0679 - mean_absolute_error: 1.0035 - val_loss: 1.5443 - val_mean_absolute_error: 0.9023\n",
            "Epoch 12/30\n",
            "528/528 [==============================] - 24s 45ms/step - loss: 1.9710 - mean_absolute_error: 0.9706 - val_loss: 1.5766 - val_mean_absolute_error: 0.9262\n",
            "Epoch 13/30\n",
            "528/528 [==============================] - 22s 42ms/step - loss: 1.9140 - mean_absolute_error: 0.9495 - val_loss: 1.2017 - val_mean_absolute_error: 0.7566\n",
            "Epoch 14/30\n",
            "528/528 [==============================] - 23s 43ms/step - loss: 1.9040 - mean_absolute_error: 0.9458 - val_loss: 1.1408 - val_mean_absolute_error: 0.6939\n",
            "Epoch 15/30\n",
            "528/528 [==============================] - 26s 50ms/step - loss: 1.8802 - mean_absolute_error: 0.9426 - val_loss: 1.5972 - val_mean_absolute_error: 0.9100\n",
            "Epoch 16/30\n",
            "528/528 [==============================] - 22s 42ms/step - loss: 1.8891 - mean_absolute_error: 0.9497 - val_loss: 1.1200 - val_mean_absolute_error: 0.6972\n",
            "Epoch 17/30\n",
            "528/528 [==============================] - 24s 45ms/step - loss: 1.8558 - mean_absolute_error: 0.9354 - val_loss: 1.2989 - val_mean_absolute_error: 0.7942\n",
            "Epoch 18/30\n",
            "528/528 [==============================] - 22s 41ms/step - loss: 1.8166 - mean_absolute_error: 0.9219 - val_loss: 1.1806 - val_mean_absolute_error: 0.7414\n",
            "Epoch 19/30\n",
            "528/528 [==============================] - 23s 43ms/step - loss: 1.8283 - mean_absolute_error: 0.9263 - val_loss: 1.0801 - val_mean_absolute_error: 0.6788\n",
            "Epoch 20/30\n",
            "528/528 [==============================] - 23s 44ms/step - loss: 1.8016 - mean_absolute_error: 0.9147 - val_loss: 1.2091 - val_mean_absolute_error: 0.7495\n",
            "Epoch 21/30\n",
            "528/528 [==============================] - 24s 45ms/step - loss: 1.7822 - mean_absolute_error: 0.9094 - val_loss: 1.1458 - val_mean_absolute_error: 0.7151\n",
            "Epoch 22/30\n",
            "528/528 [==============================] - 22s 42ms/step - loss: 1.7538 - mean_absolute_error: 0.8999 - val_loss: 1.1029 - val_mean_absolute_error: 0.6878\n",
            "Epoch 23/30\n",
            "528/528 [==============================] - 23s 44ms/step - loss: 1.7497 - mean_absolute_error: 0.8997 - val_loss: 1.2044 - val_mean_absolute_error: 0.7370\n",
            "Epoch 24/30\n",
            "528/528 [==============================] - 24s 45ms/step - loss: 1.7595 - mean_absolute_error: 0.9052 - val_loss: 1.2303 - val_mean_absolute_error: 0.7711\n",
            "Epoch 25/30\n",
            "528/528 [==============================] - 22s 41ms/step - loss: 1.7444 - mean_absolute_error: 0.8988 - val_loss: 1.2415 - val_mean_absolute_error: 0.7551\n",
            "Epoch 26/30\n",
            "528/528 [==============================] - 24s 45ms/step - loss: 1.7459 - mean_absolute_error: 0.8971 - val_loss: 1.0563 - val_mean_absolute_error: 0.6764\n",
            "Epoch 27/30\n",
            "528/528 [==============================] - 24s 45ms/step - loss: 1.7220 - mean_absolute_error: 0.8877 - val_loss: 1.1330 - val_mean_absolute_error: 0.7044\n",
            "Epoch 28/30\n",
            "528/528 [==============================] - 23s 43ms/step - loss: 1.7406 - mean_absolute_error: 0.8953 - val_loss: 1.1254 - val_mean_absolute_error: 0.6916\n",
            "Epoch 29/30\n",
            "528/528 [==============================] - 24s 45ms/step - loss: 1.7088 - mean_absolute_error: 0.8879 - val_loss: 1.1032 - val_mean_absolute_error: 0.6961\n",
            "Epoch 30/30\n",
            "528/528 [==============================] - 23s 44ms/step - loss: 1.7027 - mean_absolute_error: 0.8828 - val_loss: 1.1918 - val_mean_absolute_error: 0.7518\n"
          ]
        }
      ]
    },
    {
      "cell_type": "code",
      "source": [
        "# Plot training & validation error values\n",
        "plt.figure(figsize=(10, 5))\n",
        "plt.plot(history.history['loss'], label='Training Error')\n",
        "plt.plot(history.history['val_loss'], label='Validation Error')\n",
        "plt.title('Model error')\n",
        "plt.ylabel('Error')\n",
        "plt.xlabel('Epoch')\n",
        "plt.legend(loc='upper right')\n",
        "plt.show()"
      ],
      "metadata": {
        "colab": {
          "base_uri": "https://localhost:8080/",
          "height": 477
        },
        "id": "zCFLM5_C_lK_",
        "outputId": "7059880c-a9ae-44d2-c236-11e7fab9382d"
      },
      "execution_count": null,
      "outputs": [
        {
          "output_type": "display_data",
          "data": {
            "text/plain": [
              "<Figure size 1000x500 with 1 Axes>"
            ],
            "image/png": "[encoded data removed]"
          },
          "metadata": {}
        }
      ]
    },
    {
      "cell_type": "markdown",
      "source": [
        "The third one This looks good\n"
      ],
      "metadata": {
        "id": "Q3dRl_gSzNPB"
      }
    },
    {
      "cell_type": "code",
      "source": [
        "from sklearn.metrics import mean_squared_error\n",
        "from math import sqrt\n",
        "import matplotlib.pyplot as plt\n",
        "\n",
        "# Predict the outputs with the model\n",
        "y_train_pred = model.predict(X_train)\n",
        "y_val_pred = model.predict(X_val)\n",
        "\n",
        "# Calculate RMSE for training and validation sets\n",
        "rmse_train = sqrt(mean_squared_error(y_train, y_train_pred))\n",
        "rmse_val = sqrt(mean_squared_error(y_val, y_val_pred))\n",
        "\n",
        "print(f'RMSE for Training Set: {rmse_train}')\n",
        "print(f'RMSE for Validation Set: {rmse_val}')\n",
        "\n",
        "# Plot the RMSE values\n",
        "plt.figure(figsize=(10, 5))\n",
        "plt.bar(['Training RMSE', 'Validation RMSE'], [rmse_train, rmse_val], color=['blue', 'orange'])\n",
        "plt.title('Root Mean Square Error for Training and Validation Sets')\n",
        "plt.ylabel('RMSE')\n",
        "plt.show()\n"
      ],
      "metadata": {
        "colab": {
          "base_uri": "https://localhost:8080/",
          "height": 532
        },
        "id": "GKkj5m__An7e",
        "outputId": "23cf2774-e141-4e11-bf2d-0fabde2eab28"
      },
      "execution_count": null,
      "outputs": [
        {
          "output_type": "stream",
          "name": "stdout",
          "text": [
            "2110/2110 [==============================] - 16s 7ms/step\n",
            "453/453 [==============================] - 5s 12ms/step\n",
            "RMSE for Training Set: 1.20791279507666\n",
            "RMSE for Validation Set: 1.0916873413466381\n"
          ]
        },
        {
          "output_type": "display_data",
          "data": {
            "text/plain": [
              "<Figure size 1000x500 with 1 Axes>"
            ],
            "image/png": "[encoded data removed]"
          },
          "metadata": {}
        }
      ]
    },
    {
      "cell_type": "markdown",
      "source": [
        "\n",
        "\n",
        "---\n",
        "\n",
        "\n",
        "Not Good\n",
        "\n",
        "---\n",
        "\n"
      ],
      "metadata": {
        "id": "YAJ_YGA5UBZA"
      }
    },
    {
      "cell_type": "code",
      "source": [
        "model = Sequential()\n",
        "# Using 'relu' activation for hidden layers\n",
        "model.add(LSTM(units=50, return_sequences=True, input_shape=(X_train.shape[1], X_train.shape[2]), activation='relu'))\n",
        "model.add(Dropout(0.2))#for the first layer\n",
        "model.add(LSTM(units=50, activation='relu'))\n",
        "model.add(Dropout(0.2))\n",
        "model.add(LSTM(units=50))  # The last LSTM layer should not return sequences\n",
        "model.add(Dropout(0.1))\n",
        "model.add(Dense(units=1, activation='linear'))\n",
        "\n",
        "optimizer = Adam(learning_rate=0.003)\n",
        "\n",
        "model.compile(optimizer=optimizer, loss='mean_squared_error', metrics=[MeanAbsoluteError()])\n",
        "\n",
        "# early stopping\n",
        "early_stopping = EarlyStopping(monitor='val_loss', patience=20, restore_best_weights=True)\n",
        "\n",
        "# traning model\n",
        "history = model.fit(X_train, y_train, epochs=30, batch_size=128, validation_data=(X_val, y_val), callbacks=[early_stopping], verbose=1)\n"
      ],
      "metadata": {
        "colab": {
          "base_uri": "https://localhost:8080/"
        },
        "id": "oLLiXCwpVzN5",
        "outputId": "94e18490-0c80-407f-d6fc-3bdd02efdd14"
      },
      "execution_count": null,
      "outputs": [
        {
          "output_type": "stream",
          "name": "stdout",
          "text": [
            "Epoch 1/30\n",
            "603/603 [==============================] - 12s 17ms/step - loss: 30.9031 - mean_absolute_error: 3.7266 - val_loss: 6.8867 - val_mean_absolute_error: 1.9700\n",
            "Epoch 2/30\n",
            "603/603 [==============================] - 10s 16ms/step - loss: 8.9412 - mean_absolute_error: 2.2511 - val_loss: 4.5909 - val_mean_absolute_error: 1.5521\n",
            "Epoch 3/30\n",
            "603/603 [==============================] - 9s 15ms/step - loss: 7.7767 - mean_absolute_error: 2.0873 - val_loss: 4.5745 - val_mean_absolute_error: 1.5609\n",
            "Epoch 4/30\n",
            "603/603 [==============================] - 12s 19ms/step - loss: 6.8038 - mean_absolute_error: 1.9340 - val_loss: 3.1788 - val_mean_absolute_error: 1.2676\n",
            "Epoch 5/30\n",
            "603/603 [==============================] - 10s 16ms/step - loss: 6.2303 - mean_absolute_error: 1.8427 - val_loss: 2.8312 - val_mean_absolute_error: 1.1994\n",
            "Epoch 6/30\n",
            "603/603 [==============================] - 9s 16ms/step - loss: 5.7990 - mean_absolute_error: 1.7730 - val_loss: 2.5054 - val_mean_absolute_error: 1.1039\n",
            "Epoch 7/30\n",
            "603/603 [==============================] - 10s 16ms/step - loss: 5.3275 - mean_absolute_error: 1.6943 - val_loss: 2.4677 - val_mean_absolute_error: 1.1007\n",
            "Epoch 8/30\n",
            "603/603 [==============================] - 10s 17ms/step - loss: 5.0925 - mean_absolute_error: 1.6475 - val_loss: 2.1201 - val_mean_absolute_error: 0.9915\n",
            "Epoch 9/30\n",
            "603/603 [==============================] - 9s 15ms/step - loss: 4.8581 - mean_absolute_error: 1.6070 - val_loss: 2.5477 - val_mean_absolute_error: 1.1402\n",
            "Epoch 10/30\n",
            "603/603 [==============================] - 10s 16ms/step - loss: 4.6959 - mean_absolute_error: 1.5777 - val_loss: 2.9787 - val_mean_absolute_error: 1.2464\n",
            "Epoch 11/30\n",
            "603/603 [==============================] - 10s 17ms/step - loss: 4.3565 - mean_absolute_error: 1.5141 - val_loss: 2.2025 - val_mean_absolute_error: 1.0195\n",
            "Epoch 12/30\n",
            "603/603 [==============================] - 9s 14ms/step - loss: 4.2056 - mean_absolute_error: 1.4840 - val_loss: 2.4371 - val_mean_absolute_error: 1.1313\n",
            "Epoch 13/30\n",
            "603/603 [==============================] - 10s 16ms/step - loss: 4.1033 - mean_absolute_error: 1.4644 - val_loss: 2.4100 - val_mean_absolute_error: 1.1182\n",
            "Epoch 14/30\n",
            "603/603 [==============================] - 9s 16ms/step - loss: 3.9493 - mean_absolute_error: 1.4368 - val_loss: 1.7716 - val_mean_absolute_error: 0.9022\n",
            "Epoch 15/30\n",
            "603/603 [==============================] - 9s 15ms/step - loss: 3.8040 - mean_absolute_error: 1.4050 - val_loss: 1.9171 - val_mean_absolute_error: 0.9396\n",
            "Epoch 16/30\n",
            "603/603 [==============================] - 10s 16ms/step - loss: 3.7608 - mean_absolute_error: 1.3943 - val_loss: 2.5536 - val_mean_absolute_error: 1.1959\n",
            "Epoch 17/30\n",
            "603/603 [==============================] - 12s 21ms/step - loss: 3.5909 - mean_absolute_error: 1.3614 - val_loss: 2.2585 - val_mean_absolute_error: 1.0953\n",
            "Epoch 18/30\n",
            "603/603 [==============================] - 11s 18ms/step - loss: 3.5500 - mean_absolute_error: 1.3495 - val_loss: 2.3231 - val_mean_absolute_error: 1.0926\n",
            "Epoch 19/30\n",
            "603/603 [==============================] - 12s 19ms/step - loss: 3.3956 - mean_absolute_error: 1.3221 - val_loss: 2.0662 - val_mean_absolute_error: 1.0113\n",
            "Epoch 20/30\n",
            "603/603 [==============================] - 10s 17ms/step - loss: 3.3787 - mean_absolute_error: 1.3125 - val_loss: 1.8907 - val_mean_absolute_error: 0.9585\n",
            "Epoch 21/30\n",
            "603/603 [==============================] - 11s 18ms/step - loss: 3.2763 - mean_absolute_error: 1.2953 - val_loss: 1.9414 - val_mean_absolute_error: 0.9636\n",
            "Epoch 22/30\n",
            "603/603 [==============================] - 11s 18ms/step - loss: 3.1796 - mean_absolute_error: 1.2747 - val_loss: 1.7917 - val_mean_absolute_error: 0.9295\n",
            "Epoch 23/30\n",
            "603/603 [==============================] - 11s 18ms/step - loss: 3.1440 - mean_absolute_error: 1.2662 - val_loss: 2.0961 - val_mean_absolute_error: 1.0378\n",
            "Epoch 24/30\n",
            "603/603 [==============================] - 11s 19ms/step - loss: 3.1429 - mean_absolute_error: 1.2652 - val_loss: 1.7765 - val_mean_absolute_error: 0.9194\n",
            "Epoch 25/30\n",
            "603/603 [==============================] - 11s 18ms/step - loss: 3.1619 - mean_absolute_error: 1.2689 - val_loss: 1.9716 - val_mean_absolute_error: 0.9928\n",
            "Epoch 26/30\n",
            "603/603 [==============================] - 10s 17ms/step - loss: 3.0792 - mean_absolute_error: 1.2470 - val_loss: 1.9784 - val_mean_absolute_error: 1.0130\n",
            "Epoch 27/30\n",
            "603/603 [==============================] - 9s 15ms/step - loss: 3.0829 - mean_absolute_error: 1.2513 - val_loss: 2.1747 - val_mean_absolute_error: 1.0701\n",
            "Epoch 28/30\n",
            "603/603 [==============================] - 10s 17ms/step - loss: 3.0579 - mean_absolute_error: 1.2429 - val_loss: 2.0085 - val_mean_absolute_error: 1.0058\n",
            "Epoch 29/30\n",
            "603/603 [==============================] - 10s 17ms/step - loss: 3.0014 - mean_absolute_error: 1.2290 - val_loss: 2.0269 - val_mean_absolute_error: 1.0248\n",
            "Epoch 30/30\n",
            "603/603 [==============================] - 9s 16ms/step - loss: 2.9888 - mean_absolute_error: 1.2295 - val_loss: 2.0354 - val_mean_absolute_error: 1.0136\n"
          ]
        }
      ]
    },
    {
      "cell_type": "code",
      "source": [
        "# Plot training & validation error values\n",
        "plt.figure(figsize=(10, 5))\n",
        "plt.plot(history.history['loss'], label='Training Error')\n",
        "plt.plot(history.history['val_loss'], label='Validation Error')\n",
        "plt.title('Model error')\n",
        "plt.ylabel('Error')\n",
        "plt.xlabel('Epoch')\n",
        "plt.legend(loc='upper right')\n",
        "plt.show()\n"
      ],
      "metadata": {
        "colab": {
          "base_uri": "https://localhost:8080/",
          "height": 487
        },
        "id": "yjH5PuC0zpkA",
        "outputId": "5bb161de-42a1-49f8-b619-52059e2e483e"
      },
      "execution_count": null,
      "outputs": [
        {
          "output_type": "display_data",
          "data": {
            "text/plain": [
              "<Figure size 1000x500 with 1 Axes>"
            ],
            "image/png": "[encoded data removed]"
          },
          "metadata": {}
        }
      ]
    },
    {
      "cell_type": "code",
      "source": [
        "from sklearn.metrics import mean_squared_error\n",
        "from math import sqrt\n",
        "import matplotlib.pyplot as plt\n",
        "\n",
        "# Predict the outputs with the model\n",
        "y_train_pred = model.predict(X_train)\n",
        "y_val_pred = model.predict(X_val)\n",
        "\n",
        "# Calculate RMSE for training and validation sets\n",
        "rmse_train = sqrt(mean_squared_error(y_train, y_train_pred))\n",
        "rmse_val = sqrt(mean_squared_error(y_val, y_val_pred))\n",
        "\n",
        "print(f'RMSE for Training Set: {rmse_train}')\n",
        "print(f'RMSE for Validation Set: {rmse_val}')\n",
        "\n",
        "# Plot the RMSE values\n",
        "plt.figure(figsize=(10, 5))\n",
        "plt.bar(['Training RMSE', 'Validation RMSE'], [rmse_train, rmse_val], color=['blue', 'orange'])\n",
        "plt.title('Root Mean Square Error for Training and Validation Sets')\n",
        "plt.ylabel('RMSE')\n",
        "plt.show()\n"
      ],
      "metadata": {
        "colab": {
          "base_uri": "https://localhost:8080/",
          "height": 537
        },
        "id": "j3FX3rjWzxVx",
        "outputId": "397d2aad-c89f-4d42-e0c9-c816d0ac3762"
      },
      "execution_count": null,
      "outputs": [
        {
          "output_type": "stream",
          "name": "stdout",
          "text": [
            "2412/2412 [==============================] - 7s 3ms/step\n",
            "603/603 [==============================] - 2s 3ms/step\n",
            "RMSE for Training Set: 1.4098037849040064\n",
            "RMSE for Validation Set: 1.4266568459472069\n"
          ]
        },
        {
          "output_type": "display_data",
          "data": {
            "text/plain": [
              "<Figure size 1000x500 with 1 Axes>"
            ],
            "image/png": "[encoded data removed]"
          },
          "metadata": {}
        }
      ]
    },
    {
      "cell_type": "markdown",
      "source": [
        "## 3. Add Activation Functions\n",
        "- **Common Choices**: ReLU for hidden layers, Sigmoid/Tanh for output layers in binary classification tasks.\n",
        "- **Experiment**: Different activation functions can be tried and evaluated.\n"
      ],
      "metadata": {
        "id": "ixLC7-LXXhEg"
      }
    },
    {
      "cell_type": "markdown",
      "source": [
        "Evaluate Model: After tuning and training, evaluate the final model on the test set (X_test, y_test)"
      ],
      "metadata": {
        "id": "9f993RMIbGzG"
      }
    },
    {
      "cell_type": "code",
      "source": [],
      "metadata": {
        "id": "RGzMZxf5z_NJ"
      },
      "execution_count": null,
      "outputs": []
    }
  ]
}